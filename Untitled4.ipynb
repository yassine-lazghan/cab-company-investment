{
 "cells": [
  {
   "cell_type": "code",
   "execution_count": 1,
   "id": "12f57bd7",
   "metadata": {},
   "outputs": [],
   "source": [
    "import pandas as pd\n",
    "\n",
    "\n",
    "transaction = pd.read_csv(\"C:/Users/Yassine/Desktop/Transaction_ID.txt\")\n",
    "cust = pd.read_csv(\"C:/Users/Yassine/Desktop/Customer_ID.txt\")\n",
    "cab = pd.read_csv(\"C:/Users/Yassine/Desktop/Cab_data.txt\")\n",
    "city = pd.read_csv(\"C:/Users/Yassine/Desktop/city.txt\")\n",
    "\n"
   ]
  },
  {
   "cell_type": "code",
   "execution_count": 2,
   "id": "9d166d69",
   "metadata": {},
   "outputs": [
    {
     "name": "stdout",
     "output_type": "stream",
     "text": [
      "   Transaction ID  Customer ID Payment_Mode\n",
      "0        10000011        29290         Card\n",
      "1        10000012        27703         Card\n",
      "2        10000013        28712         Cash\n",
      "3        10000014        28020         Cash\n",
      "4        10000015        27182         Card\n",
      "   Customer ID Gender  Age  Income (USD/Month)\n",
      "0        29290   Male   28               10813\n",
      "1        27703   Male   27                9237\n",
      "2        28712   Male   53               11242\n",
      "3        28020   Male   23               23327\n",
      "4        27182   Male   33                8536\n",
      "   Transaction ID  Date of Travel   Company        City  KM Travelled  \\\n",
      "0        10000011           42377  Pink Cab  ATLANTA GA         30.45   \n",
      "1        10000012           42375  Pink Cab  ATLANTA GA         28.62   \n",
      "2        10000013           42371  Pink Cab  ATLANTA GA          9.04   \n",
      "3        10000014           42376  Pink Cab  ATLANTA GA         33.17   \n",
      "4        10000015           42372  Pink Cab  ATLANTA GA          8.73   \n",
      "\n",
      "   Price Charged  Cost of Trip  \n",
      "0         370.95       313.635  \n",
      "1         358.52       334.854  \n",
      "2         125.20        97.632  \n",
      "3         377.40       351.602  \n",
      "4         114.62        97.776  \n"
     ]
    },
    {
     "data": {
      "text/html": [
       "<div>\n",
       "<style scoped>\n",
       "    .dataframe tbody tr th:only-of-type {\n",
       "        vertical-align: middle;\n",
       "    }\n",
       "\n",
       "    .dataframe tbody tr th {\n",
       "        vertical-align: top;\n",
       "    }\n",
       "\n",
       "    .dataframe thead th {\n",
       "        text-align: right;\n",
       "    }\n",
       "</style>\n",
       "<table border=\"1\" class=\"dataframe\">\n",
       "  <thead>\n",
       "    <tr style=\"text-align: right;\">\n",
       "      <th></th>\n",
       "      <th>City</th>\n",
       "      <th>Population</th>\n",
       "      <th>Users</th>\n",
       "    </tr>\n",
       "  </thead>\n",
       "  <tbody>\n",
       "    <tr>\n",
       "      <th>0</th>\n",
       "      <td>NEW YORK NY</td>\n",
       "      <td>8,405,837</td>\n",
       "      <td>302,149</td>\n",
       "    </tr>\n",
       "    <tr>\n",
       "      <th>1</th>\n",
       "      <td>CHICAGO IL</td>\n",
       "      <td>1,955,130</td>\n",
       "      <td>164,468</td>\n",
       "    </tr>\n",
       "    <tr>\n",
       "      <th>2</th>\n",
       "      <td>LOS ANGELES CA</td>\n",
       "      <td>1,595,037</td>\n",
       "      <td>144,132</td>\n",
       "    </tr>\n",
       "    <tr>\n",
       "      <th>3</th>\n",
       "      <td>MIAMI FL</td>\n",
       "      <td>1,339,155</td>\n",
       "      <td>17,675</td>\n",
       "    </tr>\n",
       "    <tr>\n",
       "      <th>4</th>\n",
       "      <td>SILICON VALLEY</td>\n",
       "      <td>1,177,609</td>\n",
       "      <td>27,247</td>\n",
       "    </tr>\n",
       "  </tbody>\n",
       "</table>\n",
       "</div>"
      ],
      "text/plain": [
       "             City   Population      Users\n",
       "0     NEW YORK NY   8,405,837    302,149 \n",
       "1      CHICAGO IL   1,955,130    164,468 \n",
       "2  LOS ANGELES CA   1,595,037    144,132 \n",
       "3        MIAMI FL   1,339,155     17,675 \n",
       "4  SILICON VALLEY   1,177,609     27,247 "
      ]
     },
     "execution_count": 2,
     "metadata": {},
     "output_type": "execute_result"
    }
   ],
   "source": [
    "print(transaction.head())\n",
    "print(cust.head())\n",
    "print(cab.head())\n",
    "city.head()\n",
    "\n"
   ]
  },
  {
   "cell_type": "code",
   "execution_count": 3,
   "id": "3d24f416",
   "metadata": {},
   "outputs": [
    {
     "data": {
      "text/html": [
       "<div>\n",
       "<style scoped>\n",
       "    .dataframe tbody tr th:only-of-type {\n",
       "        vertical-align: middle;\n",
       "    }\n",
       "\n",
       "    .dataframe tbody tr th {\n",
       "        vertical-align: top;\n",
       "    }\n",
       "\n",
       "    .dataframe thead th {\n",
       "        text-align: right;\n",
       "    }\n",
       "</style>\n",
       "<table border=\"1\" class=\"dataframe\">\n",
       "  <thead>\n",
       "    <tr style=\"text-align: right;\">\n",
       "      <th></th>\n",
       "      <th>Transaction ID</th>\n",
       "      <th>Customer ID</th>\n",
       "      <th>Payment_Mode</th>\n",
       "      <th>Gender</th>\n",
       "      <th>Age</th>\n",
       "      <th>Income (USD/Month)</th>\n",
       "      <th>Date of Travel</th>\n",
       "      <th>Company</th>\n",
       "      <th>City</th>\n",
       "      <th>KM Travelled</th>\n",
       "      <th>Price Charged</th>\n",
       "      <th>Cost of Trip</th>\n",
       "    </tr>\n",
       "  </thead>\n",
       "  <tbody>\n",
       "    <tr>\n",
       "      <th>0</th>\n",
       "      <td>10000011</td>\n",
       "      <td>29290</td>\n",
       "      <td>Card</td>\n",
       "      <td>Male</td>\n",
       "      <td>28</td>\n",
       "      <td>10813</td>\n",
       "      <td>42377</td>\n",
       "      <td>Pink Cab</td>\n",
       "      <td>ATLANTA GA</td>\n",
       "      <td>30.45</td>\n",
       "      <td>370.95</td>\n",
       "      <td>313.6350</td>\n",
       "    </tr>\n",
       "    <tr>\n",
       "      <th>1</th>\n",
       "      <td>10351127</td>\n",
       "      <td>29290</td>\n",
       "      <td>Cash</td>\n",
       "      <td>Male</td>\n",
       "      <td>28</td>\n",
       "      <td>10813</td>\n",
       "      <td>43302</td>\n",
       "      <td>Yellow Cab</td>\n",
       "      <td>ATLANTA GA</td>\n",
       "      <td>26.19</td>\n",
       "      <td>598.70</td>\n",
       "      <td>317.4228</td>\n",
       "    </tr>\n",
       "    <tr>\n",
       "      <th>2</th>\n",
       "      <td>10412921</td>\n",
       "      <td>29290</td>\n",
       "      <td>Card</td>\n",
       "      <td>Male</td>\n",
       "      <td>28</td>\n",
       "      <td>10813</td>\n",
       "      <td>43427</td>\n",
       "      <td>Yellow Cab</td>\n",
       "      <td>ATLANTA GA</td>\n",
       "      <td>42.55</td>\n",
       "      <td>792.05</td>\n",
       "      <td>597.4020</td>\n",
       "    </tr>\n",
       "    <tr>\n",
       "      <th>3</th>\n",
       "      <td>10000012</td>\n",
       "      <td>27703</td>\n",
       "      <td>Card</td>\n",
       "      <td>Male</td>\n",
       "      <td>27</td>\n",
       "      <td>9237</td>\n",
       "      <td>42375</td>\n",
       "      <td>Pink Cab</td>\n",
       "      <td>ATLANTA GA</td>\n",
       "      <td>28.62</td>\n",
       "      <td>358.52</td>\n",
       "      <td>334.8540</td>\n",
       "    </tr>\n",
       "    <tr>\n",
       "      <th>4</th>\n",
       "      <td>10320494</td>\n",
       "      <td>27703</td>\n",
       "      <td>Card</td>\n",
       "      <td>Male</td>\n",
       "      <td>27</td>\n",
       "      <td>9237</td>\n",
       "      <td>43211</td>\n",
       "      <td>Yellow Cab</td>\n",
       "      <td>ATLANTA GA</td>\n",
       "      <td>36.38</td>\n",
       "      <td>721.10</td>\n",
       "      <td>467.1192</td>\n",
       "    </tr>\n",
       "  </tbody>\n",
       "</table>\n",
       "</div>"
      ],
      "text/plain": [
       "   Transaction ID  Customer ID Payment_Mode Gender  Age  Income (USD/Month)  \\\n",
       "0        10000011        29290         Card   Male   28               10813   \n",
       "1        10351127        29290         Cash   Male   28               10813   \n",
       "2        10412921        29290         Card   Male   28               10813   \n",
       "3        10000012        27703         Card   Male   27                9237   \n",
       "4        10320494        27703         Card   Male   27                9237   \n",
       "\n",
       "   Date of Travel     Company        City  KM Travelled  Price Charged  \\\n",
       "0           42377    Pink Cab  ATLANTA GA         30.45         370.95   \n",
       "1           43302  Yellow Cab  ATLANTA GA         26.19         598.70   \n",
       "2           43427  Yellow Cab  ATLANTA GA         42.55         792.05   \n",
       "3           42375    Pink Cab  ATLANTA GA         28.62         358.52   \n",
       "4           43211  Yellow Cab  ATLANTA GA         36.38         721.10   \n",
       "\n",
       "   Cost of Trip  \n",
       "0      313.6350  \n",
       "1      317.4228  \n",
       "2      597.4020  \n",
       "3      334.8540  \n",
       "4      467.1192  "
      ]
     },
     "execution_count": 3,
     "metadata": {},
     "output_type": "execute_result"
    }
   ],
   "source": [
    "merge1 = pd.merge(\n",
    "    transaction,\n",
    "    cust,\n",
    "    how=\"inner\",\n",
    "    on='Customer ID',)\n",
    "master = pd.merge(\n",
    "    merge1,\n",
    "    cab,\n",
    "    how=\"inner\",\n",
    "    on=\"Transaction ID\",)\n",
    "master.head()\n"
   ]
  },
  {
   "cell_type": "code",
   "execution_count": 4,
   "id": "4fca264c",
   "metadata": {},
   "outputs": [
    {
     "data": {
      "text/plain": [
       "Transaction ID          int64\n",
       "Customer ID             int64\n",
       "Payment_Mode           object\n",
       "Gender                 object\n",
       "Age                     int64\n",
       "Income (USD/Month)      int64\n",
       "Date of Travel          int64\n",
       "Company                object\n",
       "City                   object\n",
       "KM Travelled          float64\n",
       "Price Charged         float64\n",
       "Cost of Trip          float64\n",
       "dtype: object"
      ]
     },
     "execution_count": 4,
     "metadata": {},
     "output_type": "execute_result"
    }
   ],
   "source": [
    "master.dtypes\n"
   ]
  },
  {
   "cell_type": "code",
   "execution_count": 5,
   "id": "21f35440",
   "metadata": {},
   "outputs": [
    {
     "data": {
      "text/plain": [
       "0"
      ]
     },
     "execution_count": 5,
     "metadata": {},
     "output_type": "execute_result"
    }
   ],
   "source": [
    "init_rows = master.shape[0]\n",
    "master = master.drop_duplicates()\n",
    "n_duplicates = init_rows - master.shape[0]\n",
    "n_duplicates"
   ]
  },
  {
   "cell_type": "code",
   "execution_count": 6,
   "id": "b8eb9e02",
   "metadata": {},
   "outputs": [
    {
     "name": "stdout",
     "output_type": "stream",
     "text": [
      "Transaction ID        0\n",
      "Customer ID           0\n",
      "Payment_Mode          0\n",
      "Gender                0\n",
      "Age                   0\n",
      "Income (USD/Month)    0\n",
      "Date of Travel        0\n",
      "Company               0\n",
      "City                  0\n",
      "KM Travelled          0\n",
      "Price Charged         0\n",
      "Cost of Trip          0\n",
      "dtype: int64\n"
     ]
    }
   ],
   "source": [
    "print(master.isnull().sum())\n"
   ]
  },
  {
   "cell_type": "code",
   "execution_count": 7,
   "id": "b4fa721d",
   "metadata": {},
   "outputs": [],
   "source": [
    "import numpy as np\n",
    "import seaborn as sns #visualisation\n",
    "import matplotlib.pyplot as plt #visualisation\n",
    "%matplotlib inline \n",
    "sns.set(color_codes=True)"
   ]
  },
  {
   "cell_type": "code",
   "execution_count": 8,
   "id": "c905eabf",
   "metadata": {},
   "outputs": [
    {
     "name": "stderr",
     "output_type": "stream",
     "text": [
      "<ipython-input-8-611d050517ef>:5: FutureWarning: Automatic reindexing on DataFrame vs Series comparisons is deprecated and will raise ValueError in a future version.  Do `left, right = left.align(right, axis=1, copy=False)` before e.g. `left == right`\n",
      "  master = master[~((master < (Q1-1.5 * IQR)) |(master > (Q3 + 1.5 * IQR))).any(axis=1)]\n",
      "<ipython-input-8-611d050517ef>:5: FutureWarning: Automatic reindexing on DataFrame vs Series comparisons is deprecated and will raise ValueError in a future version.  Do `left, right = left.align(right, axis=1, copy=False)` before e.g. `left == right`\n",
      "  master = master[~((master < (Q1-1.5 * IQR)) |(master > (Q3 + 1.5 * IQR))).any(axis=1)]\n"
     ]
    },
    {
     "data": {
      "text/plain": [
       "5958"
      ]
     },
     "execution_count": 8,
     "metadata": {},
     "output_type": "execute_result"
    }
   ],
   "source": [
    "Q1 = master.quantile(0.25)\n",
    "Q3 = master.quantile(0.75)\n",
    "IQR = Q3 - Q1\n",
    "init_rows = master.shape[0]\n",
    "master = master[~((master < (Q1-1.5 * IQR)) |(master > (Q3 + 1.5 * IQR))).any(axis=1)]\n",
    "n_outlier_rows = init_rows - master.shape[0]\n",
    "n_outlier_rows"
   ]
  },
  {
   "cell_type": "code",
   "execution_count": 9,
   "id": "b9e44e24",
   "metadata": {},
   "outputs": [
    {
     "data": {
      "text/plain": [
       "<AxesSubplot:xlabel='Age', ylabel='Count'>"
      ]
     },
     "execution_count": 9,
     "metadata": {},
     "output_type": "execute_result"
    },
    {
     "data": {
      "image/png": "[encoded data removed]",
      "text/plain": [
       "<Figure size 432x288 with 1 Axes>"
      ]
     },
     "metadata": {},
     "output_type": "display_data"
    }
   ],
   "source": [
    "sns.histplot(data=master, x='Age', hue='Gender', bins=6)"
   ]
  },
  {
   "cell_type": "markdown",
   "id": "53149ad3",
   "metadata": {},
   "source": [
    "the majority of the companies clients are aged between 20 and 40 with a clear predominace of females."
   ]
  },
  {
   "cell_type": "code",
   "execution_count": 10,
   "id": "28c63a19",
   "metadata": {
    "scrolled": true
   },
   "outputs": [
    {
     "data": {
      "text/plain": [
       "<AxesSubplot:xlabel='Income (USD/Month)', ylabel='Count'>"
      ]
     },
     "execution_count": 10,
     "metadata": {},
     "output_type": "execute_result"
    },
    {
     "data": {
      "image/png": "[encoded data removed]",
      "text/plain": [
       "<Figure size 432x288 with 1 Axes>"
      ]
     },
     "metadata": {},
     "output_type": "display_data"
    }
   ],
   "source": [
    "sns.histplot(data=master, x='Income (USD/Month)', hue='Company', bins=3)"
   ]
  },
  {
   "cell_type": "markdown",
   "id": "a1776539",
   "metadata": {},
   "source": [
    "most of the 2 cab companies clients belong to the midlle class."
   ]
  },
  {
   "cell_type": "code",
   "execution_count": 35,
   "id": "98f06c68",
   "metadata": {
    "scrolled": true
   },
   "outputs": [
    {
     "data": {
      "text/plain": [
       "(array([  0., 100., 200., 300., 400., 500., 600., 700.]),\n",
       " [Text(0, 0, ''),\n",
       "  Text(0, 0, ''),\n",
       "  Text(0, 0, ''),\n",
       "  Text(0, 0, ''),\n",
       "  Text(0, 0, ''),\n",
       "  Text(0, 0, ''),\n",
       "  Text(0, 0, ''),\n",
       "  Text(0, 0, '')])"
      ]
     },
     "execution_count": 35,
     "metadata": {},
     "output_type": "execute_result"
    },
    {
     "data": {
      "image/png": "[encoded data removed]",
      "text/plain": [
       "<Figure size 432x288 with 1 Axes>"
      ]
     },
     "metadata": {},
     "output_type": "display_data"
    }
   ],
   "source": [
    "\n",
    "sns.regplot(data=master[master['Company'] == 'Pink Cab'], x='Cost of Trip', y='Price Charged', scatter = False, label='Pink cab')\n",
    "sns.regplot(data=master[master['Company'] == 'Yellow Cab'], x='Cost of Trip', y='Price Charged', scatter = False, label='Yellow cab')\n",
    "plt.legend()\n"
   ]
  },
  {
   "cell_type": "markdown",
   "id": "aa4cb2b3",
   "metadata": {},
   "source": [
    "yellow cab company seems to charge extra for the same trip, wich leads us to conclude that it got a bigger margin of profit. "
   ]
  },
  {
   "cell_type": "code",
   "execution_count": 41,
   "id": "614a7f7c",
   "metadata": {},
   "outputs": [
    {
     "data": {
      "text/plain": [
       "([0, 1, 2, 3, 4, 5, 6, 7, 8, 9, 10, 11, 12, 13, 14, 15, 16, 17, 18],\n",
       " [Text(0, 0, ''),\n",
       "  Text(0, 0, ''),\n",
       "  Text(0, 0, ''),\n",
       "  Text(0, 0, ''),\n",
       "  Text(0, 0, ''),\n",
       "  Text(0, 0, ''),\n",
       "  Text(0, 0, ''),\n",
       "  Text(0, 0, ''),\n",
       "  Text(0, 0, ''),\n",
       "  Text(0, 0, ''),\n",
       "  Text(0, 0, ''),\n",
       "  Text(0, 0, ''),\n",
       "  Text(0, 0, ''),\n",
       "  Text(0, 0, ''),\n",
       "  Text(0, 0, ''),\n",
       "  Text(0, 0, ''),\n",
       "  Text(0, 0, ''),\n",
       "  Text(0, 0, ''),\n",
       "  Text(0, 0, '')])"
      ]
     },
     "execution_count": 41,
     "metadata": {},
     "output_type": "execute_result"
    },
    {
     "data": {
      "image/png": "[encoded data removed]",
      "text/plain": [
       "<Figure size 432x288 with 1 Axes>"
      ]
     },
     "metadata": {},
     "output_type": "display_data"
    }
   ],
   "source": [
    "sns.histplot(data=master, x = 'City', hue = 'Company')\n",
    "plt.xticks(rotation=90)\n"
   ]
  },
  {
   "cell_type": "markdown",
   "id": "439916d4",
   "metadata": {},
   "source": [
    "pink cab company has more customers in cities like 'los angeles' and 'san diego', but in most cities yellow cab company is doing better."
   ]
  }
 ],
 "metadata": {
  "kernelspec": {
   "display_name": "Python 3",
   "language": "python",
   "name": "python3"
  },
  "language_info": {
   "codemirror_mode": {
    "name": "ipython",
    "version": 3
   },
   "file_extension": ".py",
   "mimetype": "text/x-python",
   "name": "python",
   "nbconvert_exporter": "python",
   "pygments_lexer": "ipython3",
   "version": "3.8.8"
  }
 },
 "nbformat": 4,
 "nbformat_minor": 5
}
